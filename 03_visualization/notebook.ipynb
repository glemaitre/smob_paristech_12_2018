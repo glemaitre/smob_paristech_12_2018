{
 "cells": [
  {
   "cell_type": "markdown",
   "metadata": {},
   "source": [
    "# Recap of the visualization tools"
   ]
  },
  {
   "cell_type": "markdown",
   "metadata": {},
   "source": [
    "Up to now, we focus on NumPy and Pandas which are core libraries of any data science workflow. Studying those tools, we used some specific librairies for plotting. Mainly, we used:\n",
    "\n",
    "* [matplotlib](https://matplotlib.org/)\n",
    "* [pandas](https://pandas.pydata.org/)\n",
    "* [seaborn](https://seaborn.pydata.org/)\n",
    "\n",
    "In this notebook, we will give some more information about those tools which we discarded up to now."
   ]
  },
  {
   "cell_type": "markdown",
   "metadata": {},
   "source": [
    "## 1. Matplotlib"
   ]
  },
  {
   "cell_type": "markdown",
   "metadata": {},
   "source": [
    "Matplotlib is a general plotting library giving the freedom regarding plot editing. A lot of plotting libraries (pandas, seaborn, etc.) are using this library as their core engine.\n",
    "\n",
    "In this section, we will focus on some aspects which are interested to know when you want to customize your plots. In any case, do not hesitate to refer to the [matplotlib gallery](https://matplotlib.org/gallery/index.html) having numerous of examples which can be used as the base for your plotting."
   ]
  },
  {
   "cell_type": "code",
   "execution_count": null,
   "metadata": {},
   "outputs": [],
   "source": [
    "import numpy as np\n",
    "import matplotlib.pyplot as plt\n",
    "%matplotlib inline"
   ]
  },
  {
   "cell_type": "markdown",
   "metadata": {},
   "source": [
    "### 1.1 Single axis plotting"
   ]
  },
  {
   "cell_type": "markdown",
   "metadata": {},
   "source": [
    "Let's take a simple example wher we would like to plot the function $f(x) = cos(x)$"
   ]
  },
  {
   "cell_type": "code",
   "execution_count": null,
   "metadata": {},
   "outputs": [],
   "source": [
    "x = np.arange(-10, 10, 0.2)\n",
    "fx = np.cos(x)"
   ]
  },
  {
   "cell_type": "code",
   "execution_count": null,
   "metadata": {},
   "outputs": [],
   "source": [
    "plt.plot(x, fx)"
   ]
  },
  {
   "cell_type": "markdown",
   "metadata": {},
   "source": [
    "It is actually easy to put several line on the same plot:"
   ]
  },
  {
   "cell_type": "code",
   "execution_count": null,
   "metadata": {},
   "outputs": [],
   "source": [
    "gx = np.cos(2 * x)"
   ]
  },
  {
   "cell_type": "code",
   "execution_count": null,
   "metadata": {},
   "outputs": [],
   "source": [
    "plt.plot(x, gx)\n",
    "plt.plot(x, fx)"
   ]
  },
  {
   "cell_type": "markdown",
   "metadata": {},
   "source": [
    "The parameter `label` allow to associate a line plot with a specific tag. To show the legend, you need to call the `plt.legend()` function. Refer to the matplotlib tutorial regarding the [legend guide](https://matplotlib.org/users/legend_guide.html) for more details."
   ]
  },
  {
   "cell_type": "code",
   "execution_count": null,
   "metadata": {},
   "outputs": [],
   "source": [
    "plt.plot(x, gx, label=\"g(x) = cos(2x)\")\n",
    "plt.plot(x, fx, label=\"f(x) = cos(x)\")\n",
    "plt.legend(loc=3)"
   ]
  },
  {
   "cell_type": "markdown",
   "metadata": {},
   "source": [
    "The line style can easily be edited throw the parameters: `color`, `linewidth`, `linestyle`, `marker`, and `markersize`."
   ]
  },
  {
   "cell_type": "code",
   "execution_count": null,
   "metadata": {},
   "outputs": [],
   "source": [
    "plt.plot(x, gx, label=\"g(x) = cos(2x)\", linewidth=4, linestyle='--', color='red')\n",
    "plt.plot(x, fx, label=\"f(x) = cos(x)\", marker='o', markersize=11, color='blue')\n",
    "plt.legend(loc=3)"
   ]
  },
  {
   "cell_type": "markdown",
   "metadata": {},
   "source": [
    "You can add labels and title as well."
   ]
  },
  {
   "cell_type": "code",
   "execution_count": null,
   "metadata": {},
   "outputs": [],
   "source": [
    "plt.plot(x, gx, label=\"g(x) = cos(2x)\", linewidth=4, linestyle='--', color='red')\n",
    "plt.plot(x, fx, label=\"f(x) = cos(x)\", marker='o', markersize=11, color='blue')\n",
    "plt.legend(loc=3)\n",
    "plt.title('Title of the plot')\n",
    "plt.xlabel('x')\n",
    "plt.ylabel('y')"
   ]
  },
  {
   "cell_type": "markdown",
   "metadata": {},
   "source": [
    "Some other useful functions (but not limited too): `axis`, `xticks`, or `yticks`."
   ]
  },
  {
   "cell_type": "code",
   "execution_count": null,
   "metadata": {},
   "outputs": [],
   "source": [
    "plt.plot(x, gx, label=\"g(x) = cos(2x)\", linewidth=4, linestyle='--', color='red')\n",
    "plt.plot(x, fx, label=\"f(x) = cos(x)\", marker='o', markersize=11, color='blue')\n",
    "plt.legend(loc=3)\n",
    "plt.title('Title of the plot')\n",
    "plt.xlabel('x')\n",
    "plt.ylabel('y')\n",
    "plt.axis([-5, 5, -1, 1])\n",
    "plt.xticks(np.arange(-5, 5, 2.5))\n",
    "plt.yticks([-1, 0, 1])"
   ]
  },
  {
   "cell_type": "markdown",
   "metadata": {},
   "source": [
    "### 1.2 Plot using several axis"
   ]
  },
  {
   "cell_type": "markdown",
   "metadata": {},
   "source": [
    "It is really handy to be able to plot into several axis sometime. You can use the function `plt.subplots` to be able to do so."
   ]
  },
  {
   "cell_type": "code",
   "execution_count": null,
   "metadata": {},
   "outputs": [],
   "source": [
    "fig, axs = plt.subplots(nrows=2, ncols=3)"
   ]
  },
  {
   "cell_type": "code",
   "execution_count": null,
   "metadata": {},
   "outputs": [],
   "source": [
    "print(axs)"
   ]
  },
  {
   "cell_type": "markdown",
   "metadata": {},
   "source": [
    "We can see that `subplots` will create the number of desired axis and will return a list of those axis which can be used for plotting the data."
   ]
  },
  {
   "cell_type": "code",
   "execution_count": null,
   "metadata": {},
   "outputs": [],
   "source": [
    "fig, axs = plt.subplots(nrows=2, ncols=3)\n",
    "for ax, alpha in zip(axs.ravel(), range(1, 7)):\n",
    "    ax.plot(x, np.cos(alpha * x))"
   ]
  },
  {
   "cell_type": "markdown",
   "metadata": {},
   "source": [
    "You can set the label by using `ax` instead of `plt` and usually the function `set_` instead of the plain function. In case that you have issue with overlapping label, you can use the function `plt.tight_layout()` at the end of your plotting."
   ]
  },
  {
   "cell_type": "code",
   "execution_count": null,
   "metadata": {},
   "outputs": [],
   "source": [
    "fig, axs = plt.subplots(nrows=2, ncols=3)\n",
    "for ax, alpha in zip(axs.ravel(), range(1, 7)):\n",
    "    ax.plot(x, np.cos(alpha * x))\n",
    "    ax.set_xlabel('x')\n",
    "    ax.set_ylabel('y')\n",
    "plt.tight_layout()"
   ]
  },
  {
   "cell_type": "markdown",
   "metadata": {},
   "source": [
    "## 2. Pandas"
   ]
  },
  {
   "cell_type": "markdown",
   "metadata": {},
   "source": [
    "We saw in the previous notebooks that `pandas` allows to easily plot information which are contains into `DataFrame` or `Series`. Basically, `pandas` is calling `matplotlib` facilities and decorate the plots with the information stored in the `DataFrame` (e.g. columns name). Therefore, `pandas` allows to reduce the code to be written in order to plot lines.\n",
    "\n",
    "Refer to the [visualization guide](https://pandas.pydata.org/pandas-docs/stable/visualization.html) for a full description of `pandas` feature."
   ]
  },
  {
   "cell_type": "code",
   "execution_count": null,
   "metadata": {},
   "outputs": [],
   "source": [
    "import pandas as pd"
   ]
  },
  {
   "cell_type": "code",
   "execution_count": null,
   "metadata": {},
   "outputs": [],
   "source": [
    "df = pd.DataFrame({'f(x)=cos(x)': np.cos(x),\n",
    "                   'g(x)=cos(2x)': np.cos(2*x)},\n",
    "                  index=x)\n",
    "df.head()"
   ]
  },
  {
   "cell_type": "code",
   "execution_count": null,
   "metadata": {},
   "outputs": [],
   "source": [
    "df.plot()"
   ]
  },
  {
   "cell_type": "markdown",
   "metadata": {},
   "source": [
    "## 3. Seaborn"
   ]
  },
  {
   "cell_type": "markdown",
   "metadata": {},
   "source": [
    "`seaborn` offers some advanced plotting for data exploration which would be more difficult to write solely in `matplotlib`. `seaborn` is using both `matplotlib` and `pandas` to provide those plotting extensions.\n",
    "\n",
    "Refer to the [searborn gallery](https://seaborn.pydata.org/examples/index.html) to see all additional plots given by `seaborn`."
   ]
  },
  {
   "cell_type": "markdown",
   "metadata": {},
   "source": [
    "Herein, we will present couple of functions which are really useful even if you are only using normal plot from `matplotlib`.\n",
    "\n",
    "When using `matplotlib` a typical mistake is to keep the original style in which the font size and line can be too small depending of the media in which you want to show your plots (i.e. presentation, paper, report, etc.)"
   ]
  },
  {
   "cell_type": "code",
   "execution_count": null,
   "metadata": {},
   "outputs": [],
   "source": [
    "plt.plot(x, gx, label=\"g(x) = cos(2x)\")\n",
    "plt.plot(x, fx, label=\"f(x) = cos(x)\")\n",
    "plt.legend(loc=3)"
   ]
  },
  {
   "cell_type": "markdown",
   "metadata": {},
   "source": [
    "`seaborn` offers a context manager, `plotting_context()` which will automatically change the plotting style depending of your media."
   ]
  },
  {
   "cell_type": "code",
   "execution_count": null,
   "metadata": {},
   "outputs": [],
   "source": [
    "import seaborn as sns"
   ]
  },
  {
   "cell_type": "code",
   "execution_count": null,
   "metadata": {},
   "outputs": [],
   "source": [
    "with sns.plotting_context(\"poster\"):  # could be also one of {paper, notebook, talk, poster}\n",
    "    plt.plot(x, gx, label=\"g(x) = cos(2x)\")\n",
    "    plt.plot(x, fx, label=\"f(x) = cos(x)\")\n",
    "    plt.legend(loc=3)"
   ]
  },
  {
   "cell_type": "markdown",
   "metadata": {},
   "source": [
    "In the case that the figure is difficult to read, we should probably remove information which are not necessary:\n",
    "\n",
    "* Remove the ticks which are not necessary using the `xticks()` and `yticks()` functions.\n",
    "* Remove the spines using the `sns.despine()` function.\n",
    "* Limit the range of values with `axis()` function.\n",
    "* Optionally move the legend."
   ]
  },
  {
   "cell_type": "code",
   "execution_count": null,
   "metadata": {},
   "outputs": [],
   "source": [
    "with sns.plotting_context(\"poster\"):  # could be also one of {paper, notebook, talk, poster}\n",
    "    plt.plot(x, gx, label=\"g(x) = cos(2x)\", linestyle='--')\n",
    "    plt.plot(x, fx, label=\"f(x) = cos(x)\", linestyle=':')\n",
    "    plt.xticks(np.arange(-10, 11, 5))\n",
    "    plt.yticks([-1, 0, 1])\n",
    "    sns.despine(offset=10)\n",
    "    plt.axis([-10, 10, -1, 1])\n",
    "    plt.legend(bbox_to_anchor=(1.05, 1), loc=2, borderaxespad=0.)\n",
    "    plt.xlabel('x')\n",
    "    plt.ylabel('y')\n",
    "    plt.title('Title of this plot')"
   ]
  },
  {
   "cell_type": "markdown",
   "metadata": {},
   "source": [
    "## 4. Bokeh"
   ]
  },
  {
   "cell_type": "markdown",
   "metadata": {},
   "source": [
    "The previous library provides static plot. Sometime, you will be interested to have some interactive plot. In this regard, `bokeh` provides such functionality as the example presented below."
   ]
  },
  {
   "cell_type": "code",
   "execution_count": null,
   "metadata": {},
   "outputs": [],
   "source": [
    "# Standard imports \n",
    "\n",
    "from bokeh.io import output_notebook, show\n",
    "output_notebook()"
   ]
  },
  {
   "cell_type": "code",
   "execution_count": null,
   "metadata": {},
   "outputs": [],
   "source": [
    "# Plot a complex chart with intearctive hover in a few lines of code\n",
    "\n",
    "from bokeh.models import ColumnDataSource, HoverTool\n",
    "from bokeh.plotting import figure\n",
    "from bokeh.sampledata.autompg import autompg_clean as df\n",
    "from bokeh.transform import factor_cmap\n",
    "\n",
    "df.cyl = df.cyl.astype(str)\n",
    "df.yr = df.yr.astype(str)\n",
    "\n",
    "group = df.groupby(by=['cyl', 'mfr'])\n",
    "source = ColumnDataSource(group)\n",
    "\n",
    "p = figure(plot_width=800, plot_height=300, title=\"Mean MPG by # Cylinders and Manufacturer\",\n",
    "           x_range=group, toolbar_location=None, tools=\"\")\n",
    "\n",
    "p.xgrid.grid_line_color = None\n",
    "p.xaxis.axis_label = \"Manufacturer grouped by # Cylinders\"\n",
    "p.xaxis.major_label_orientation = 1.2\n",
    "\n",
    "index_cmap = factor_cmap('cyl_mfr', palette=['#2b83ba', '#abdda4', '#ffffbf', '#fdae61', '#d7191c'], \n",
    "                         factors=sorted(df.cyl.unique()), end=1)\n",
    "\n",
    "p.vbar(x='cyl_mfr', top='mpg_mean', width=1, source=source,\n",
    "       line_color=\"white\", fill_color=index_cmap, \n",
    "       hover_line_color=\"darkgrey\", hover_fill_color=index_cmap)\n",
    "\n",
    "p.add_tools(HoverTool(tooltips=[(\"MPG\", \"@mpg_mean\"), (\"Cyl, Mfr\", \"@cyl_mfr\")]))\n",
    "\n",
    "show(p)"
   ]
  }
 ],
 "metadata": {
  "kernelspec": {
   "display_name": "Python 3",
   "language": "python",
   "name": "python3"
  },
  "language_info": {
   "codemirror_mode": {
    "name": "ipython",
    "version": 3
   },
   "file_extension": ".py",
   "mimetype": "text/x-python",
   "name": "python",
   "nbconvert_exporter": "python",
   "pygments_lexer": "ipython3",
   "version": "3.6.6"
  }
 },
 "nbformat": 4,
 "nbformat_minor": 2
}
